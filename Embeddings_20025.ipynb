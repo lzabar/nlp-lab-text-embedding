{
 "cells": [
  {
   "cell_type": "markdown",
   "metadata": {},
   "source": [
    "#  NLP-lab :  Word embeddings\n",
    "\n",
    "In this series of exercises, we will explore three word embeddings:\n",
    "\n",
    "* [Collobert & Weston](http://www.jmlr.org/papers/volume12/collobert11a/collobert11a.pdf) https://ronan.collobert.com/senna/\n",
    "* [Word2Vec](https://arxiv.org/abs/1301.3781)\n",
    "* [BERT](https://huggingface.co/bert-base-uncased) \n",
    "\n",
    "\n",
    "In the code already provided, add your code to the place indicated by `YOUR CODE HERE`.\n",
    "\n",
    "**Important** : do NOT commit the data and embedding files in your repository git : it is a waste of resources and it takes more time to clone.\n",
    "> Use https://docs.github.com/en/get-started/getting-started-with-git/ignoring-files\n"
   ]
  },
  {
   "cell_type": "code",
   "execution_count": 1,
   "metadata": {},
   "outputs": [],
   "source": [
    "# basic imports\n",
    "import os\n",
    "import matplotlib.pyplot as plt\n",
    "# display matplotlib graphics in notebook\n",
    "%matplotlib inline \n",
    "import seaborn as sns\n",
    "\n",
    "# disable warnings for libraries\n",
    "import warnings\n",
    "warnings.filterwarnings(\"ignore\")\n",
    "\n",
    "# configure logger\n",
    "import logging\n",
    "logging.basicConfig(format='%(asctime)s %(levelname)s:%(message)s', level=logging.INFO, datefmt='%I:%M:%S')\n",
    "logger = logging.getLogger(__name__)\n"
   ]
  },
  {
   "cell_type": "markdown",
   "metadata": {},
   "source": [
    "###  Embeddings exploration with Collobert's embeddings\n",
    "\n",
    "Upload the files containing the embeddings to `data`:\n",
    "* Collobert (size 50): [collobert_embeddings.txt.zip](https://storage.teklia.com/shared/deepnlp-labs/collobert_embeddings.txt.zip) which contains the embedding vectors and [collobert_words.lst](https://storage.teklia.com/shared/deepnlp-labs/collobert_words.lst) which contains the associated words;\n",
    "\n",
    "You need to unzip the files to load them.\n",
    "\n",
    "Feel free to open the files to see what they contain (it's sometimes surprising).\n",
    "\n",
    "#### Question: \n",
    ">* Add the files to your .gitignore\n",
    ">* Give the size in Mb of the embeddings files before unzipping.\n",
    ">* By exploring the content of the embedding files, give the number of words for which these files provide embeddings.\n",
    "\n"
   ]
  },
  {
   "cell_type": "markdown",
   "metadata": {},
   "source": [
    "> on Windows: (Get-Item collobert_embeddings.txt.zip).length / 1MB \n",
    "\n",
    "* Reminder: 1 megabytes = 1,048,576 bytes\n",
    "$$\n",
    "\\text{Size in MB} = \\frac{\\text{Size in bytes}}{1 \\text{ MB}}\n",
    "$$\n",
    "\n",
    "\n",
    "The unzipped embeddings file is about 23.71 MB.\n",
    "\n",
    "> on Windows: (Get-Content collobert_words.lst).Count \n",
    "\n",
    "* The file 'collobert_embeddings.txt' contains 130000 words.\n",
    "* The file 'collobert_words.lst' also includes 130000 words."
   ]
  },
  {
   "cell_type": "markdown",
   "metadata": {},
   "source": [
    "### List of closest words\n",
    "\n",
    "The aim of this exercise is to list the closest words to a given word for the Collobert embedding. First, we'll load the vectors of the Collobert embedding into a numpy array and the associated words into a python list. Then we'll use the [scipy KDTree](https://docs.scipy.org/doc/scipy/reference/generated/scipy.spatial.KDTree.html) data structure to quickly search for the vectors closest to a series of words.\n",
    "\n",
    "\n",
    "#### Question: \n",
    ">* load embedding vectors from the file `data/collobert_embeddings.txt` using the numpy function [genfromtxt](https://numpy.org/doc/stable/reference/generated/numpy.genfromtxt.html)\n",
    ">* load the words associated with the vectors from the `data/collobert_words.lst` file into a python list (using `open()` and `readlines()`)\n",
    ">* check that the sizes are correct\n"
   ]
  },
  {
   "cell_type": "code",
   "execution_count": 2,
   "metadata": {},
   "outputs": [
    {
     "name": "stdout",
     "output_type": "stream",
     "text": [
      "Number of words : 130000\n",
      "Shape of embeddings : (130000, 50)\n"
     ]
    }
   ],
   "source": [
    "import numpy as np\n",
    "# YOUR CODE HERE\n",
    "\n",
    "# embeddings\n",
    "embeddings = np.genfromtxt(\"data/collobert_embeddings.txt\")\n",
    "\n",
    "# words\n",
    "with open(\"data/collobert_words.lst\", \"r\", encoding=\"utf-8\") as file:\n",
    "    words = [line.strip() for line in file.readlines()]\n",
    "\n",
    "# checking sizes\n",
    "assert embeddings.shape[0] == len(words), \"Error : The number of vectors does not correspond to the number of words.\"\n",
    "\n",
    "print(f\"Number of words : {len(words)}\")\n",
    "print(f\"Shape of embeddings : {embeddings.shape}\")"
   ]
  },
  {
   "cell_type": "markdown",
   "metadata": {},
   "source": [
    "KD trees are a very efficient data structure for storing large sets of points in a multi-dimensional space and performing very efficient nearest-neighbour searches. \n",
    "\n",
    "#### Question \n",
    "> * Initialise the [KDTree](https://docs.scipy.org/doc/scipy/reference/generated/scipy.spatial.KDTree.html) structure with Collobert's embedding vectors.\n",
    "> * Using the [tree.query](https://docs.scipy.org/doc/scipy/reference/generated/scipy.spatial.KDTree.query.html#scipy.spatial.KDTree.query) function, display the 5 nearest words for the following words: ‘mother’, ‘computer’, ‘dentist’, ‘war’, ‘president’, ‘secretary’, ‘nurse’.  *Hint: you can use the function `collobert_words.index(w)` to obtain the index of a word in the list of words*.\n",
    "> * Create a `words_plus_neighbors` list containing the words and all their neighbours (for the next question)"
   ]
  },
  {
   "cell_type": "code",
   "execution_count": 3,
   "metadata": {},
   "outputs": [
    {
     "name": "stdout",
     "output_type": "stream",
     "text": [
      "mother: ['daughter', 'wife', 'father', 'husband', 'son']\n",
      "computer: ['laptop', 'multimedia', 'desktop', 'software', 'wiki']\n",
      "dentist: ['pharmacist', 'midwife', 'physician', 'housekeeper', 'veterinarian']\n",
      "war: ['revolution', 'death', 'court', 'independence', 'history']\n",
      "president: ['governor', 'chairman', 'mayor', 'secretary', 'senator']\n",
      "secretary: ['minister', 'treasurer', 'chairman', 'commissioner', 'undersecretary']\n",
      "nurse: ['physician', 'veterinarian', 'dentist', 'surgeon', 'midwife']\n",
      "\n",
      "Complete list :\n",
      "[('mother', ['daughter', 'wife', 'father', 'husband', 'son']), ('computer', ['laptop', 'multimedia', 'desktop', 'software', 'wiki']), ('dentist', ['pharmacist', 'midwife', 'physician', 'housekeeper', 'veterinarian']), ('war', ['revolution', 'death', 'court', 'independence', 'history']), ('president', ['governor', 'chairman', 'mayor', 'secretary', 'senator']), ('secretary', ['minister', 'treasurer', 'chairman', 'commissioner', 'undersecretary']), ('nurse', ['physician', 'veterinarian', 'dentist', 'surgeon', 'midwife'])]\n"
     ]
    }
   ],
   "source": [
    "from scipy import spatial\n",
    "# YOUR CODE HERE\n",
    "\n",
    "# initialisation\n",
    "tree = spatial.KDTree(embeddings)\n",
    "\n",
    "targets = [\"mother\", \"computer\", \"dentist\", \"war\", \"president\", \"secretary\", \"nurse\"]\n",
    "\n",
    "words_plus_neighbors = []\n",
    "\n",
    "for word in targets:\n",
    "    if word in words:\n",
    "        index = words.index(word)\n",
    "        distances, indices = tree.query(embeddings[index], k=6) \n",
    "        neighbors = [words[i] for i in indices if i != index] \n",
    "        print(f\"{word}: {neighbors}\")\n",
    "        words_plus_neighbors.append((word, neighbors))\n",
    "    else:\n",
    "        print(f\"Word '{word}' not found.\")\n",
    "\n",
    "print(\"\\nComplete list :\")\n",
    "print(words_plus_neighbors)"
   ]
  },
  {
   "cell_type": "markdown",
   "metadata": {},
   "source": [
    "### Visualisation with T-SNE\n",
    "\n",
    "Embeddings are vectors with several hundred dimensions. It is therefore not possible to display them in their original space. However, it is possible to apply dimension reduction algorithms to display them in 2 or 3 dimensions. One of the dimension reduction algorithms allowing 2D visualisation is [tSNE](https://en.wikipedia.org/wiki/T-distributed_stochastic_neighbor_embedding). \n",
    "\n",
    "#### Question\n",
    "> * Create a `word_vectors` object of type `np.array` from a list containing all the embeddings of the words in the `words_plus_neighbors` list.\n",
    "> * Create a tSNE object from the `from sklearn.manifold import TSNE` library with the parameters `random_state=0`, `n_iter=2000` and `perplexity=15.0` for a 2-dimensional view.\n",
    "> * Calculate *T* the tSNE transformation of the `word_vectors` by applying function `.fit_transform(word_vectors)` to the tSNE object. This function estimates the parameters of the tSNE transformation and returns the reduced-dimension representation of the vectors used for estimation.\n",
    "> * Use the `scatterplot` function from [seaborn](https://seaborn.pydata.org/generated/seaborn.scatterplot.html) to represent points in 2 dimensions and add word labels using the `plt.annotate` function."
   ]
  },
  {
   "cell_type": "code",
   "execution_count": 4,
   "metadata": {},
   "outputs": [
    {
     "data": {
      "image/png": "[encoded data removed]",
      "text/plain": [
       "<Figure size 640x480 with 1 Axes>"
      ]
     },
     "metadata": {},
     "output_type": "display_data"
    }
   ],
   "source": [
    "from sklearn.manifold import TSNE\n",
    "# graphics\n",
    "import matplotlib.pyplot as plt\n",
    "# display matplotlib graphics in notebook\n",
    "%matplotlib inline \n",
    "import seaborn as sns\n",
    "\n",
    "# retrieve the word representation\n",
    "# YOUR CODE HERE\n",
    "word_vectors = np.array([embeddings[words.index(word)] for word, neighbors in words_plus_neighbors for word in [word] + neighbors])\n",
    "\n",
    "# create the tSNE transform\n",
    "# YOUR CODE HERE\n",
    "tsne = TSNE(n_components=2, random_state=0, n_iter=2000, perplexity=15.0)\n",
    "\n",
    "# fit and transform the word vectors, store in T\n",
    "# YOUR CODE HERE\n",
    "T = tsne.fit_transform(word_vectors)\n",
    "\n",
    "# plot\n",
    "fig = plt.figure()\n",
    "fig.patch.set_facecolor('#f9f9f9')\n",
    "\n",
    "sns.set(rc={'figure.figsize':(14, 8)})\n",
    "sns.set(font_scale=1)\n",
    "\n",
    "sns.scatterplot(x=T[:, 0], y=T[:, 1])\n",
    "\n",
    "word_list = [word for word, neighbors in words_plus_neighbors for word in [word] + neighbors]\n",
    "for label, x, y in zip(word_list, T[:, 0], T[:, 1]):\n",
    "    plt.annotate(label, xy=(x+1, y+1), xytext=(0, 0), textcoords='offset points')\n",
    "\n",
    "plt.title(\"projection of word embeddings\")\n",
    "plt.show()"
   ]
  },
  {
   "cell_type": "markdown",
   "metadata": {},
   "source": [
    "### Semantic arithmetic with Word2Vec\n",
    "\n",
    "One of the most original properties of Word2Vec embeddings is that the semantic relationships between vectors can be modelled by arithmetic operations. Given vectors representing the words `king`, `man` and `woman`, it is possible to compute the vector `v` as :  \n",
    "\n",
    "`v = vector(king)-vector(man)+vector(woman)`\n",
    "\n",
    "This operation corresponds to the following semantic relationship: *The king is to the man what the queen is to the woman*, which translates into the following arithmetic: *the concept of king, minus the concept of man plus the concept of woman gives the concept of queen*.\n",
    "\n",
    "In fact, if we look in the embedding for the word whose closest vector is `v`, we find `reine`.\n",
    "\n",
    "\n",
    "We will use a Word2Vec model pre-trained on the French Wac corpus.  This model has been trained on a corpus of 1 billion French words. \n",
    "\n",
    "This embedding is available in 2 formats:\n",
    "- a text format for easy exploration of the model :\n",
    "    - frWac_non_lem_no_postag_no_phrase_200_cbow_cut100.txt](https://storage.teklia.com/shared/deepnlp-labs/frWac_non_lem_no_postag_no_phrase_200_cbow_cut100.txt)\n",
    "- a binary format that can be loaded using the Gensim library: \n",
    "    - [enWac_non_lem_no_postag_no_phrase_200_cbow_cut100.bin](https://storage.teklia.com/shared/deepnlp-labs/frWac_non_lem_no_postag_no_phrase_200_cbow_cut100.bin)\n",
    "\n",
    "Download the text file onto your machine to analyse it.\n",
    "\n",
    "#### Question: \n",
    ">* Add the file to your .gitignore\n",
    ">* Give the size in Mb of the embedding files\n",
    ">* By exploring the contents of the embedding file in text format, give the number of words for which this model provides embeddings and the size of the embedding for each word.\n",
    "\n"
   ]
  },
  {
   "cell_type": "markdown",
   "metadata": {},
   "source": [
    "* The file is about 120.21 MB."
   ]
  },
  {
   "cell_type": "code",
   "execution_count": null,
   "metadata": {},
   "outputs": [
    {
     "name": "stderr",
     "output_type": "stream",
     "text": [
      "03:09:46 INFO:loading projection weights from data/frWac_non_lem_no_postag_no_phrase_200_cbow_cut100.bin\n",
      "03:09:46 INFO:KeyedVectors lifecycle event {'msg': 'loaded (155562, 200) matrix of type float32 from data/frWac_non_lem_no_postag_no_phrase_200_cbow_cut100.bin', 'binary': True, 'encoding': 'utf8', 'datetime': '2025-02-25T15:09:46.999512', 'gensim': '4.3.3', 'python': '3.12.7 | packaged by conda-forge | (main, Oct  4 2024, 16:05:46) [GCC 13.3.0]', 'platform': 'Linux-6.1.0-30-amd64-x86_64-with-glibc2.35', 'event': 'load_word2vec_format'}\n"
     ]
    },
    {
     "name": "stdout",
     "output_type": "stream",
     "text": [
      "Number of words : 155562\n",
      "Embeddings size : 200 dimensions\n"
     ]
    }
   ],
   "source": [
    "from gensim.models import KeyedVectors\n",
    "\n",
    "embedding_file =\"data/frWac_non_lem_no_postag_no_phrase_200_cbow_cut100.bin\"\n",
    "model = KeyedVectors.load_word2vec_format(embeddings_path, binary=True)\n",
    "\n",
    "num_words = len(model.index_to_key) \n",
    "embedding_size = model.vector_size   \n",
    "\n",
    "print(f\"Number of words : {num_words}\")\n",
    "print(f\"Embeddings size : {embedding_size} dimensions\")"
   ]
  },
  {
   "cell_type": "markdown",
   "metadata": {},
   "source": [
    "#### Word similarity\n",
    "\n",
    "We are now going to use the [Gensim] library (https://radimrehurek.com/gensim/) to load the Word2Vec model and use it. \n",
    "\n",
    "#### Question: \n",
    ">* Modify the following code to load the Word2Vec template file in binary format using [load_word2vec](https://radimrehurek.com/gensim/models/keyedvectors.html#how-to-obtain-word-vectors)\n",
    ">* Choose a couple of words and find the closest words according to the model using [most_similar](https://radimrehurek.com/gensim/models/keyedvectors.html#gensim.models.keyedvectors.KeyedVectors.most_similar)\n",
    ">* To guess the meaning of the words ‘yokohama’, ‘kanto’ and ‘shamisen’, look for their nearest neighbours. Explain the results.\n"
   ]
  },
  {
   "cell_type": "code",
   "execution_count": 6,
   "metadata": {},
   "outputs": [
    {
     "name": "stderr",
     "output_type": "stream",
     "text": [
      "02:55:12 INFO:loading projection weights from data/frWac_non_lem_no_postag_no_phrase_200_cbow_cut100.bin\n",
      "02:55:13 INFO:KeyedVectors lifecycle event {'msg': 'loaded (155562, 200) matrix of type float32 from data/frWac_non_lem_no_postag_no_phrase_200_cbow_cut100.bin', 'binary': True, 'encoding': 'utf8', 'datetime': '2025-02-25T14:55:13.581839', 'gensim': '4.3.3', 'python': '3.12.7 | packaged by conda-forge | (main, Oct  4 2024, 16:05:46) [GCC 13.3.0]', 'platform': 'Linux-6.1.0-30-amd64-x86_64-with-glibc2.35', 'event': 'load_word2vec_format'}\n"
     ]
    },
    {
     "data": {
      "text/plain": [
       "[('commandeur', 0.6844523549079895),\n",
       " ('chevaliers', 0.6799763441085815),\n",
       " ('écuyer', 0.6333731412887573),\n",
       " ('grand-croix', 0.621898353099823),\n",
       " ('preux', 0.6011075377464294),\n",
       " ('chevalerie', 0.5404021143913269),\n",
       " ('légion', 0.5335969924926758),\n",
       " ('honneur', 0.4953608810901642),\n",
       " ('yvain', 0.4855087101459503),\n",
       " ('insignes', 0.4742659330368042)]"
      ]
     },
     "execution_count": 6,
     "metadata": {},
     "output_type": "execute_result"
    }
   ],
   "source": [
    "from gensim.models import KeyedVectors\n",
    "\n",
    "## YOUR CODE HERE\n",
    "embedding_file =\"data/frWac_non_lem_no_postag_no_phrase_200_cbow_cut100.bin\"\n",
    "model = KeyedVectors.load_word2vec_format(embedding_file, binary=True, unicode_errors=\"ignore\")\n",
    "## YOUR CODE HERE\n",
    "model.most_similar(\"chevalier\")"
   ]
  },
  {
   "cell_type": "markdown",
   "metadata": {},
   "source": [
    "#### Semantic arithmetic\n",
    "\n",
    "One of the most original properties of Word2Vec embeddings is that the semantic relationships between vectors can be modelled by arithmetic operations. Given vectors representing the words `king`, `man` and `woman`, it is possible to compute the vector `v` as :  \n",
    "\n",
    "`v = vector(king)-vector(man)+vector(woman)`\n",
    "\n",
    "This operation corresponds to the following semantic relationship: *The king is to the man what the queen is to the woman*, which translates into the following arithmetic: *the concept of king, minus the concept of man plus the concept of woman gives the concept of queen*.\n",
    "\n",
    "In fact, if we look in the embedding for the word whose closest vector is `v`, we find `reine`.\n",
    "\n",
    "#### Question: \n",
    ">* using the function [most_similar](https://radimrehurek.com/gensim/models/keyedvectors.html#gensim.models.keyedvectors.KeyedVectors.most_similar) specifying the arguments `positive` for the vectors to be added and `negative` for the vectors to be subtracted, check the relationship *the concept of king, minus the concept of man plus the concept of woman gives the concept of queen*.\n",
    ">* Using the same method, find XXX in the following semantic relations\n",
    ">   * Paris is to France what XXX is to Japan.\n",
    ">   * Chevalier is to France what XXX is to Japan."
   ]
  },
  {
   "cell_type": "code",
   "execution_count": 7,
   "metadata": {},
   "outputs": [
    {
     "data": {
      "text/plain": [
       "[('reine', 0.6945513486862183)]"
      ]
     },
     "execution_count": 7,
     "metadata": {},
     "output_type": "execute_result"
    }
   ],
   "source": [
    "model.most_similar(positive=[\"roi\",\"femme\"], negative=[\"homme\"], topn=1)"
   ]
  },
  {
   "cell_type": "code",
   "execution_count": 8,
   "metadata": {},
   "outputs": [
    {
     "data": {
      "text/plain": [
       "[('tokyo', 0.6542136073112488)]"
      ]
     },
     "execution_count": 8,
     "metadata": {},
     "output_type": "execute_result"
    }
   ],
   "source": [
    "model.most_similar(positive=[\"paris\",\"japon\"], negative=[\"france\"],topn=1)"
   ]
  },
  {
   "cell_type": "code",
   "execution_count": 9,
   "metadata": {},
   "outputs": [
    {
     "data": {
      "text/plain": [
       "[('samouraï', 0.5616667866706848)]"
      ]
     },
     "execution_count": 9,
     "metadata": {},
     "output_type": "execute_result"
    }
   ],
   "source": [
    "model.most_similar(positive=[\"chevalier\",\"japon\"], negative=[\"france\"], topn=1)"
   ]
  },
  {
   "cell_type": "markdown",
   "metadata": {},
   "source": [
    "## Contextual embeddings with BERT \n",
    "\n",
    "BERT was one of the first freely available Transformer language models, trained on large corpora. Many other models are available on HuggingFace.\n",
    "\n",
    "As BERT is a contextual model, it is necessary to have it predict whole sentences in order to study the word embeddings it produces. In this section, we will compare the embeddings obtained for polysemous words according to the sentence in which they are used.\n",
    "\n",
    "In English, *plant* has two meanings: plant and vegetable. With a non-contextual embedding, such as Glove or Colobert, these two meanings of the word plus are associated with an identical embedding. With BERT, we'll see that the same word can have several embeddings depending on the context.\n",
    "\n",
    "First, load the BERT model and tokenizer from HuggingFace : "
   ]
  },
  {
   "cell_type": "code",
   "execution_count": 19,
   "metadata": {},
   "outputs": [
    {
     "data": {
      "text/plain": [
       "BertModel(\n",
       "  (embeddings): BertEmbeddings(\n",
       "    (word_embeddings): Embedding(30522, 768, padding_idx=0)\n",
       "    (position_embeddings): Embedding(512, 768)\n",
       "    (token_type_embeddings): Embedding(2, 768)\n",
       "    (LayerNorm): LayerNorm((768,), eps=1e-12, elementwise_affine=True)\n",
       "    (dropout): Dropout(p=0.1, inplace=False)\n",
       "  )\n",
       "  (encoder): BertEncoder(\n",
       "    (layer): ModuleList(\n",
       "      (0-11): 12 x BertLayer(\n",
       "        (attention): BertAttention(\n",
       "          (self): BertSdpaSelfAttention(\n",
       "            (query): Linear(in_features=768, out_features=768, bias=True)\n",
       "            (key): Linear(in_features=768, out_features=768, bias=True)\n",
       "            (value): Linear(in_features=768, out_features=768, bias=True)\n",
       "            (dropout): Dropout(p=0.1, inplace=False)\n",
       "          )\n",
       "          (output): BertSelfOutput(\n",
       "            (dense): Linear(in_features=768, out_features=768, bias=True)\n",
       "            (LayerNorm): LayerNorm((768,), eps=1e-12, elementwise_affine=True)\n",
       "            (dropout): Dropout(p=0.1, inplace=False)\n",
       "          )\n",
       "        )\n",
       "        (intermediate): BertIntermediate(\n",
       "          (dense): Linear(in_features=768, out_features=3072, bias=True)\n",
       "          (intermediate_act_fn): GELUActivation()\n",
       "        )\n",
       "        (output): BertOutput(\n",
       "          (dense): Linear(in_features=3072, out_features=768, bias=True)\n",
       "          (LayerNorm): LayerNorm((768,), eps=1e-12, elementwise_affine=True)\n",
       "          (dropout): Dropout(p=0.1, inplace=False)\n",
       "        )\n",
       "      )\n",
       "    )\n",
       "  )\n",
       "  (pooler): BertPooler(\n",
       "    (dense): Linear(in_features=768, out_features=768, bias=True)\n",
       "    (activation): Tanh()\n",
       "  )\n",
       ")"
      ]
     },
     "execution_count": 19,
     "metadata": {},
     "output_type": "execute_result"
    }
   ],
   "source": [
    "import torch\n",
    "from transformers import BertTokenizer, BertModel\n",
    "\n",
    "tokenizer = BertTokenizer.from_pretrained('bert-base-uncased')\n",
    "\n",
    "# Load pre-trained model \n",
    "model = BertModel.from_pretrained('bert-base-uncased',\n",
    "                                  output_hidden_states = True, # to access the hidden states\n",
    "                                  )\n",
    "\n",
    "# set the model to \"evaluation\" mode\n",
    "model.eval()"
   ]
  },
  {
   "cell_type": "markdown",
   "metadata": {},
   "source": [
    "### Tokenizer\n",
    "\n",
    "Language models are trained with a specific breakdown of sentences into tokens. These tokens can be words or parts of words. It is necessary to use the tokenizer corresponding to each model.\n",
    "\n",
    "tokenizer.vocab.keys() gives the list of all the tokens known for the language model. \n",
    "\n",
    "#### Question\n",
    ">* How many different tokens are known to the BERT tokenizer?\n",
    ">* Display a hundred tokens at random. What do you find?"
   ]
  },
  {
   "cell_type": "code",
   "execution_count": 20,
   "metadata": {},
   "outputs": [
    {
     "name": "stdout",
     "output_type": "stream",
     "text": [
      "Number of different tokens in BERT : 30522\n"
     ]
    },
    {
     "data": {
      "text/plain": [
       "['##sos',\n",
       " 'intrigued',\n",
       " 'landfall',\n",
       " 'programmers',\n",
       " 'marsden',\n",
       " '##ulation',\n",
       " 'curtains',\n",
       " '[unused17]',\n",
       " '##rber',\n",
       " 'butler',\n",
       " '##：',\n",
       " 'town',\n",
       " 'borrow',\n",
       " 'geographic',\n",
       " '##iti',\n",
       " '##ъ',\n",
       " '##llo',\n",
       " '##in',\n",
       " 'tsar',\n",
       " 'anticipated',\n",
       " 'morphology',\n",
       " 'identity',\n",
       " 'hartley',\n",
       " 'contest',\n",
       " '##hur',\n",
       " '##rent',\n",
       " 'merging',\n",
       " 'awarding',\n",
       " 'attraction',\n",
       " 'exquisite',\n",
       " 'oversight',\n",
       " '##rio',\n",
       " 'dylan',\n",
       " 'spies',\n",
       " '##ович',\n",
       " 'curvature',\n",
       " 'sudan',\n",
       " 'ニ',\n",
       " 'כ',\n",
       " 'tired',\n",
       " 'touch',\n",
       " '勝',\n",
       " 'guarantees',\n",
       " '1802',\n",
       " '##ence',\n",
       " 'mathias',\n",
       " '人',\n",
       " '##itated',\n",
       " '##щ',\n",
       " '##tania',\n",
       " 'manifold',\n",
       " 'noah',\n",
       " 'porter',\n",
       " '1878',\n",
       " 'roll',\n",
       " 'tier',\n",
       " '##osta',\n",
       " 'scan',\n",
       " 'spine',\n",
       " 'affiliate',\n",
       " 'mp',\n",
       " 'candidate',\n",
       " 'zero',\n",
       " 'potomac',\n",
       " 'gingerly',\n",
       " 'pig',\n",
       " 'cohen',\n",
       " 'streaks',\n",
       " 'baby',\n",
       " 'pictorial',\n",
       " 'pretended',\n",
       " '##lassified',\n",
       " '##ি',\n",
       " '##zel',\n",
       " 'asserting',\n",
       " 'aquarium',\n",
       " '##bar',\n",
       " 'ding',\n",
       " '##ang',\n",
       " '##tagram',\n",
       " 'temperature',\n",
       " 'spectator',\n",
       " '°',\n",
       " 'ʼ',\n",
       " 'es',\n",
       " 'mets',\n",
       " 'hilly',\n",
       " 'shelter',\n",
       " '##pling',\n",
       " 'preferred',\n",
       " '##ccus',\n",
       " 'multitude',\n",
       " 'chevrolet',\n",
       " '##scia',\n",
       " 'widened',\n",
       " 'raymond',\n",
       " 'invade',\n",
       " 'subsequently',\n",
       " 'oblast',\n",
       " 'attended']"
      ]
     },
     "execution_count": 20,
     "metadata": {},
     "output_type": "execute_result"
    }
   ],
   "source": [
    "import random\n",
    "# number of token in tokenizer\n",
    "print(f\"Number of different tokens in BERT : {len(tokenizer.vocab.keys())}\")\n",
    "\n",
    "# sample of 100 tokens\n",
    "random.sample(list(tokenizer.vocab.keys()), 100)"
   ]
  },
  {
   "cell_type": "markdown",
   "metadata": {},
   "source": [
    "The tokenizer splits sentences and transforms the elements (words or sub-words) into clues. \n",
    "\n",
    "BERT can process several sentences, but you need to tell it how the sentences (segments) have been split, with an index: 0 for the first sentence, 1 for the second. \n",
    "\n",
    "Two specific tokens must also be added: \n",
    "* CLS], a specific token used for sentence classification\n",
    "* SEP], the end of sentence token.\n",
    "\n",
    "#### Question\n",
    ">* Apply the bert_tokenize function to the 3 phases and keep the 3 vectors (index, token, segment).\n",
    ">* Display this information for each of the sentences and check that the word *plant* has the same token index in the two sentences in which it appears."
   ]
  },
  {
   "cell_type": "code",
   "execution_count": 30,
   "metadata": {},
   "outputs": [
    {
     "name": "stdout",
     "output_type": "stream",
     "text": [
      "S1 - Index: 101, Token: [CLS], Segment: 1\n",
      "S1 - Index: 1996, Token: the, Segment: 1\n",
      "S1 - Index: 3269, Token: plant, Segment: 1\n",
      "S1 - Index: 2038, Token: has, Segment: 1\n",
      "S1 - Index: 2584, Token: reached, Segment: 1\n",
      "S1 - Index: 2049, Token: its, Segment: 1\n",
      "S1 - Index: 29160, Token: maximal, Segment: 1\n",
      "S1 - Index: 2504, Token: level, Segment: 1\n",
      "S1 - Index: 1997, Token: of, Segment: 1\n",
      "S1 - Index: 2537, Token: production, Segment: 1\n",
      "S1 - Index: 1012, Token: ., Segment: 1\n",
      "S1 - Index: 102, Token: [SEP], Segment: 1\n",
      "\n",
      "======================================================================\n",
      "\n",
      "S2 - Index: 101, Token: [CLS], Segment: 1\n",
      "S2 - Index: 1996, Token: the, Segment: 1\n",
      "S2 - Index: 3765, Token: cars, Segment: 1\n",
      "S2 - Index: 2024, Token: are, Segment: 1\n",
      "S2 - Index: 9240, Token: assembled, Segment: 1\n",
      "S2 - Index: 2503, Token: inside, Segment: 1\n",
      "S2 - Index: 1996, Token: the, Segment: 1\n",
      "S2 - Index: 4713, Token: factory, Segment: 1\n",
      "S2 - Index: 1012, Token: ., Segment: 1\n",
      "S2 - Index: 102, Token: [SEP], Segment: 1\n",
      "\n",
      "======================================================================\n",
      "\n",
      "S3 - Index: 101, Token: [CLS], Segment: 1\n",
      "S3 - Index: 1037, Token: a, Segment: 1\n",
      "S3 - Index: 3269, Token: plant, Segment: 1\n",
      "S3 - Index: 3791, Token: needs, Segment: 1\n",
      "S3 - Index: 9325, Token: sunlight, Segment: 1\n",
      "S3 - Index: 1998, Token: and, Segment: 1\n",
      "S3 - Index: 2300, Token: water, Segment: 1\n",
      "S3 - Index: 2000, Token: to, Segment: 1\n",
      "S3 - Index: 4982, Token: grow, Segment: 1\n",
      "S3 - Index: 2092, Token: well, Segment: 1\n",
      "S3 - Index: 1012, Token: ., Segment: 1\n",
      "S3 - Index: 102, Token: [SEP], Segment: 1\n",
      "\n",
      "======================================================================\n",
      "\n",
      "\n",
      "'plant' index :\n",
      "Index in sentence 1 : 2, Token index : 3269\n",
      "Index in sentence 3 : 2, Token index : 3269\n",
      "Same token index ? Yes\n"
     ]
    }
   ],
   "source": [
    "snt1 = \"The plant has reached its maximal level of production.\"\n",
    "snt2 = \"The cars are assembled inside the factory.\"\n",
    "snt3 = \"A plant needs sunlight and water to grow well.\"\n",
    "\n",
    "\n",
    "def bert_tokenize(snt):\n",
    "    \"\"\" Apply the BERT tokenizer to a list of words representing a sentence\n",
    "        and return 3 lists: \n",
    "        - list of token indx\n",
    "        - list of token for debugging, not used by the BERT model\n",
    "        - list of sentence index\n",
    "        \"\"\"\n",
    "    # Add the special tokens.\n",
    "    tagged_snt = \"[CLS] \" + snt + \" [SEP]\" \n",
    "    # Tokenize\n",
    "    tokenized_snt = tokenizer.tokenize(tagged_snt)\n",
    "    # convert tokens to indices\n",
    "    indexed_snt = tokenizer.convert_tokens_to_ids(tokenized_snt)\n",
    "    # mark the words in sentence.\n",
    "    segments_ids = [1] * len(tokenized_snt)\n",
    "\n",
    "    return (indexed_snt, tokenized_snt, segments_ids)\n",
    "\n",
    "# YOUR CODE HERE\n",
    "sentences = [snt1, snt2, snt3]\n",
    "\n",
    "for i, snt in enumerate(sentences, start=1):\n",
    "    indexed_snt, tokenized_snt, segments_snt = bert_tokenize(snt)\n",
    "\n",
    "    for index, token, segment in zip(indexed_snt, tokenized_snt, segments_snt):\n",
    "        print(f\"S{i} - Index: {index}, Token: {token}, Segment: {segment}\")\n",
    "\n",
    "    print(\"\\n\" + \"=\"*70 + \"\\n\")\n",
    "\n",
    "plant_index_snt1 = tokenized_snt1.index(\"plant\") if \"plant\" in tokenized_snt1 else None\n",
    "plant_index_snt3 = tokenized_snt3.index(\"plant\") if \"plant\" in tokenized_snt3 else None\n",
    "\n",
    "print(\"\\n'plant' index :\")\n",
    "print(f\"Index in sentence 1 : {plant_index_snt1}, Token index : {indexed_snt1[plant_index_snt1]}\")\n",
    "print(f\"Index in sentence 3 : {plant_index_snt3}, Token index : {indexed_snt3[plant_index_snt3]}\")\n",
    "print(f\"Same token index ? {'Yes' if indexed_snt1[plant_index_snt1] == indexed_snt3[plant_index_snt3] else 'No'}\")"
   ]
  },
  {
   "cell_type": "markdown",
   "metadata": {},
   "source": [
    "## Inference\n",
    "\n",
    "To calculate embeddings, we need to make a prediction using the BERT model on a complete sentence. The *predict_hidden* function converts the token and segment index lists into a pytorch tensor and applies the model. \n",
    "\n",
    "The model used is a 12-layer model. We will use the last hidden layer of the model as an embedding to represent the words. Other solutions are possible, such as concatenation or averaging of several layers.\n",
    "\n",
    "\n",
    "#### Question\n",
    ">* Apply the model to each of the 3 sentences and store the resulting embeddings (tensors).\n",
    ">* Display the dimension of the resulting tensors. What is the dimension of the embedding vector for each word?"
   ]
  },
  {
   "cell_type": "code",
   "execution_count": 41,
   "metadata": {},
   "outputs": [
    {
     "name": "stdout",
     "output_type": "stream",
     "text": [
      "Dimension of last hidden layer in sentence 1: torch.Size([12, 768])\n",
      "Dimension of last hidden layer in sentence 2: torch.Size([10, 768])\n",
      "Dimension of last hidden layer in sentence 3: torch.Size([12, 768])\n",
      "\n",
      "Dimension of embeddings for each word: 768\n"
     ]
    }
   ],
   "source": [
    "def predict_hidden(indexed_snt, segments_ids):\n",
    "    \"\"\"Apply the BERT model to the input token indices and segment indices\n",
    "        and return the last hidden layer\n",
    "    \"\"\"\n",
    "    with torch.no_grad():\n",
    "        # Convert inputs to PyTorch tensors\n",
    "        tokens_tensor = torch.tensor([indexed_snt])\n",
    "        segments_tensors = torch.tensor([segments_ids])\n",
    "        outputs = model(tokens_tensor, segments_tensors)\n",
    "        hidden_states = outputs[2]\n",
    "        one_hidden_layer = hidden_states[12][0]\n",
    "        \n",
    "    return one_hidden_layer\n",
    "\n",
    "# YOUR CODE HERE\n",
    "hidden_layer_snt1 = predict_hidden(indexed_snt1, segments_snt1)\n",
    "hidden_layer_snt2 = predict_hidden(indexed_snt2, segments_snt2)\n",
    "hidden_layer_snt3 = predict_hidden(indexed_snt3, segments_snt3)\n",
    "\n",
    "print(f\"Dimension of last hidden layer in sentence 1: {hidden_layer_snt1.shape}\")\n",
    "print(f\"Dimension of last hidden layer in sentence 2: {hidden_layer_snt2.shape}\")\n",
    "print(f\"Dimension of last hidden layer in sentence 3: {hidden_layer_snt3.shape}\")\n",
    "print(f\"\\nDimension of embeddings for each word: {hidden_layer_snt1.shape[1]}\")\n"
   ]
  },
  {
   "cell_type": "markdown",
   "metadata": {},
   "source": [
    "The hidden layer returned by the *predict_hidden* function is a tensor containing a context vector representing each token in the input sentence. We can use this vector to represent the meaning of this word as a function of its context. We're going to compare the representation of the polysemous word *plant* as a function of its context.\n",
    "\n",
    "#### Question\n",
    ">* Using the [cosine distance](https://docs.scipy.org/doc/scipy/reference/generated/scipy.spatial.distance.cosine.html), calculate the following distances:\n",
    "> * distance between *plant* in sentence 1 (plant-factory) and *plant* in sentence 3 (plant-vegetal)\n",
    "> * distance between *plant* in sentence 1 (plant-factory) and *factory* in sentence 2 (plant-vegetal) \n",
    "> * distance between *plant* in sentence 1 (plant-factory) and *production* in sentence 2 \n",
    "> * distance between *plant* in sentence 3 (plant-vegetal) and *production* in sentence 2 \n",
    "> * How can we interpret these distances?"
   ]
  },
  {
   "cell_type": "code",
   "execution_count": 52,
   "metadata": {},
   "outputs": [
    {
     "name": "stdout",
     "output_type": "stream",
     "text": [
      "Cosine distance between 'plant' in sentence 1 and 'plant' in sentence 3: 0.50\n",
      "Cosine distance between 'plant' in sentence 1 and 'factory' in sentence 2: 0.31\n",
      "Cosine distance between 'plant' in sentence 1 and 'production' in sentence 1: 0.24\n",
      "Cosine distance between 'plant' in sentence 3 and 'production' in sentence 1: 0.62\n"
     ]
    }
   ],
   "source": [
    "from scipy.spatial.distance import cosine\n",
    "\n",
    "# YOUR CODE HERE\n",
    "def last_layer_token(hidden_layer, token_index):\n",
    "    return hidden_layer[token_index]\n",
    "\n",
    "factory_index_snt2 = tokenized_snt2.index(\"factory\")\n",
    "production_index_snt1 = tokenized_snt1.index(\"production\")\n",
    "\n",
    "plant_embedding_snt1 = last_layer_token(hidden_layer_snt1, plant_index_snt1)\n",
    "plant_embedding_snt3 = last_layer_token(hidden_layer_snt3, plant_index_snt3)\n",
    "factory_embedding_snt2 = last_layer_token(hidden_layer_snt2, factory_index_snt2)\n",
    "production_embedding_snt1 = last_layer_token(hidden_layer_snt1, production_index_snt1)\n",
    "\n",
    "dist_plant_snt1_snt3 = cosine(plant_embedding_snt1, plant_embedding_snt3)\n",
    "dist_plant_factory_snt1_snt2 = cosine(plant_embedding_snt1, factory_embedding_snt2)\n",
    "dist_plant_production_snt1 = cosine(plant_embedding_snt1, production_embedding_snt1)\n",
    "dist_plant_production_snt3_snt1 = cosine(plant_embedding_snt3, production_embedding_snt1)\n",
    "\n",
    "print(f\"Cosine distance between 'plant' in sentence 1 and 'plant' in sentence 3: {dist_plant_snt1_snt3:.2f}\")\n",
    "print(f\"Cosine distance between 'plant' in sentence 1 and 'factory' in sentence 2: {dist_plant_factory_snt1_snt2:.2f}\")\n",
    "print(f\"Cosine distance between 'plant' in sentence 1 and 'production' in sentence 1: {dist_plant_production_snt1:.2f}\")\n",
    "print(f\"Cosine distance between 'plant' in sentence 3 and 'production' in sentence 1: {dist_plant_production_snt3_snt1:.2f}\")"
   ]
  },
  {
   "cell_type": "markdown",
   "metadata": {},
   "source": [
    "* A distance of 0.50 suggests that both instances of \"plant\" are related but distinct, since they are the same word but have different meanings.\n",
    "\n",
    "* A low cosine distance indicates that the two tokens are semantically similar in the context of the sentence. For example, \"plant\" in sentence 1 refers to a production facility, and \"factory\" in sentence 2 refers to a similar concept. A distance of 0.31 shows that these two terms are closely related. The same applies to \"plant\" and \"production\" in sentence 1 as well.\n",
    "\n",
    "* On the other hand, a high cosine distance means that the tokens are more semantically different in the context of the sentence. For instance, the distance between \"plant\" in sentence 3 and \"production\" in sentence 1 is high (0.62), showing that \"production\" is quite different from the botanical \"plant\"."
   ]
  },
  {
   "cell_type": "code",
   "execution_count": null,
   "metadata": {},
   "outputs": [],
   "source": []
  }
 ],
 "metadata": {
  "kernelspec": {
   "display_name": "base",
   "language": "python",
   "name": "python3"
  },
  "language_info": {
   "codemirror_mode": {
    "name": "ipython",
    "version": 3
   },
   "file_extension": ".py",
   "mimetype": "text/x-python",
   "name": "python",
   "nbconvert_exporter": "python",
   "pygments_lexer": "ipython3",
   "version": "3.12.7"
  }
 },
 "nbformat": 4,
 "nbformat_minor": 2
}
